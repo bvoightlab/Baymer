{
 "cells": [
  {
   "cell_type": "markdown",
   "id": "58beeaa1",
   "metadata": {},
   "source": [
    "# Baymer Tutorial\n",
    "\n",
    "Baymer can be run either using the baymer package by running each script directly. This markdown will demonstrate primarily how to run baymer by importing different scripts, however, the commands to run each script individually will also be shown.\n",
    "\n",
    "The first part of the tutorial will demonstrate the standard baymer pipeline and subsequently a few downstream applications will be described."
   ]
  },
  {
   "cell_type": "markdown",
   "id": "0908df99",
   "metadata": {},
   "source": [
    "## Standard Baymer Pipeline\n",
    "\n",
    "Baymer expects jsons of the following format as as input files:\n",
    "\n",
    "{Context: [A polymorphisms, C polymorphisms, G polymorphisms, T polymorphisms, total contexts, context reference index, list reference index], ...}\n",
    "\n",
    "where the \"context reference index\" is the 0-indexed position of the reference nucleotide in the context and \"list reference index\" is the position in the list of the reference nucleotide. Therefore, for the 3-mer context \"AAA\", the context reference index would be 1 and the list reference index would be 0.\n",
    "\n",
    "Note that the input json should only contain a single context reference index and sequence context length. In other words, all contexts should be of uniform length (e.g all 3-mers) and should have the same nucleotide in scope (e.g for 3-mers the central nucleotide is the polymorphic nucleotide for all context counts enumerated).\n",
    "\n",
    "Generating these files necessitates counting both the contexts and the polymorphism counts. We have provided scripts to count these quantities and format the proper json if desired.\n",
    "\n",
    "Note that for all of the following tutorial we will be using 5-mer sequence context windows for speed purposes, but the mer length can be designated as desired. The only caveat being that this will necessitate adjusting the buffer on the BED file to accomodate the given sequence context length (described in further detail below)."
   ]
  },
  {
   "cell_type": "markdown",
   "id": "ede0dae2",
   "metadata": {},
   "source": [
    "### Counting Contexts\n",
    "\n",
    "#### Inputs\n",
    "\n",
    "Note flags for standalone script and named arguments for imported modules indicated as follows at the beginning **(-a/named argument)**\n",
    "\n",
    "* **(-c/config_file)** config file\n",
    "    * The format of this file can be found [here](https://github.com/bvoightlab/Baymer/blob/main/tutorial_data/context_and_mutation_counter_config.yaml)\n",
    "    * The FASTA files designated must be trimmed to only include the feature region of interest. We recommend using [BEDtools](https://bedtools.readthedocs.io/en/latest/content/tools/getfasta.html) to accomplish this. We also recommend adding a buffer to the trimming BED file (can be accomplished using [BEDtools slop](https://bedtools.readthedocs.io/en/latest/content/tools/slop.html)) to extract the FASTAs to account for the overhang of the sequence context allowing the first position in the feature to be included. Otherwise this locus could only be considered as a member of the flanking nucleotides in the sequence contexts ultimately counted. \n",
    "* **(--feature/feature)** feature of interest (must be designated in the config file)\n",
    "* **(-m/mer_length)** the size of the sequence context desired to be counted\n",
    "* **(--co/context_output_file)** the desired output file location and name\n",
    "* **(-b/buffer_bp)** the buffer shift of the fasta (this parameter defaults to the symmetric flank size of the mer size given)\n",
    "* **(-a/offset)** the offset of the mer from perfect symmetry\n",
    "    * this allows for counting mers with different nucleotides in scope than the default center nucleotide\n",
    "    * offsets are designated with the following examples of length 3 and 4 mers:\n",
    "        - 3-mers: NNN -> -1 0 1\n",
    "        - 4-mers: NNNN -> -2 -1 1 2\n",
    "    * by default the script assumes symmetric mers i.e offset = 0 for odd mers and -1 for even mers\n",
    "* **(-u/unfolded)** whether you want folded or unfolded sequence contexts i.e T central nucleotides are folded to A contexts and G nucleotides to C\n",
    "* **(-h/high_confidence)** whether you only want to use high-confidence bases from the FASTAs (this assumes they are designated as such with capital letters)\n",
    "\n",
    "#### Running standalone script\n",
    "\n",
    "python baymer/context_counter.py \\\n",
    "    **-c** tutorial_data/context_and_mutation_counter_config.yaml \\\n",
    "    **--feature** cpg_islands \\\n",
    "    **-m** 5 \\\n",
    "    **--co** tutorial_data/tutorial_outs/tutorial_count_files/context_count_out.tsv \\\n",
    "    **-b** 5 \\\n",
    "    **-a** 0 \\\n",
    "    **-h**\n"
   ]
  },
  {
   "cell_type": "markdown",
   "id": "d1474847",
   "metadata": {},
   "source": [
    "#### Running in python script"
   ]
  },
  {
   "cell_type": "code",
   "execution_count": null,
   "id": "7cf5fec9",
   "metadata": {},
   "outputs": [],
   "source": [
    "from baymer import context_counter\n",
    "\n",
    "config_file = \"tutorial_data/context_and_mutation_counter_config.yaml\"\n",
    "context_count_output_file = \"tutorial_data/tutorial_outs/tutorial_count_files/context_count_out.tsv\"\n",
    "\n",
    "# run context counter\n",
    "context_counter.driver(config_file = config_file, \n",
    "                       feature = \"cpg_islands\", \n",
    "                       mer_length = 5, \n",
    "                       context_output_file = context_count_output_file,\n",
    "                       offset = 0,\n",
    "                       buffer_bp = 5,\n",
    "                       unfolded = False,\n",
    "                       high_confidence = True)"
   ]
  },
  {
   "cell_type": "markdown",
   "id": "28b8b505",
   "metadata": {},
   "source": [
    "### Counting Mutations\n",
    "\n",
    "#### Inputs\n",
    "\n",
    "Note flags for standalone script and named arguments for imported modules indicated as follows at the beginning **(-a/named argument)**\n",
    "\n",
    "* **(-c/config_file)** config file\n",
    "    * The format of this file can be found [here](https://github.com/bvoightlab/Baymer/blob/main/tutorial_data/context_and_mutation_counter_config.yaml)\n",
    "    * Note that this is the same config file as used in the context counting script\n",
    "* **(--feature/feature)** feature of interest (must be designated in the config file)\n",
    "* **(-p/pop)** the population of interest (must be designated in the config file)\n",
    "* **(-m/mer_length)** the size of the sequence context desired to be counted\n",
    "* **(--mo/mutation_output_file)** the desired output file location and name\n",
    "* **(--ac/allele_count)** specifies the allele count you would like to count\n",
    "* **(--min/min_bool)** specifies that you would like to count *at least* the number of alleles specified (i.e with this option the script will count the # of alleles specified or greater)\n",
    "* **(-b/buffer_bp)** the buffer shift of the fasta (this parameter defaults to the symmetric flank size of the mer size given)\n",
    "* **(-a/offset)** the offset of the mer from perfect symmetry\n",
    "    * this allows for counting mers with different nucleotides in scope than the default center nucleotide\n",
    "    * offsets are designated with the following examples of length 3 and 4 mers:\n",
    "        - 3-mers: NNN -> -1 0 1\n",
    "        - 4-mers: NNNN -> -2 -1 1 2\n",
    "    * by default the script assumes symmetric mers i.e offset = 0 for odd mers and -1 for even mers\n",
    "* **(-u/unfolded)** whether you want folded or unfolded sequence contexts i.e T central nucleotides are folded to A contexts and G nucleotides to C\n",
    "* **(-h/high_confidence)** whether you only want to use high-confidence bases from the FASTAs (this assumes they are designated as such with capital letters)\n",
    "* **(--nygc/nygc_bool)** Boolean to specify whether the vcf of interest is using 1KG or gnomad population formatting\n",
    "    * this essentially controls for the syntax of population names and qc metrics. If a different standard than either of these two is used, this may need to be adjusted\n",
    "    * gnomad populations are labeled \"POP_AC\" etc etc\n",
    "    * 1KG populations \n",
    "* **(--fasta-consistent/fasta_consistent)** Boolean to specify that you would like enforce vcf consistency (e.g fasta is ancestral but vcf is not)\n",
    "\n",
    "#### Running standalone script\n",
    "\n",
    "python baymer/mutation_counter.py \\\n",
    "    **-c** tutorial_data/context_and_mutation_counter_config.yaml \\\n",
    "    **--feature** cpg_islands \\\n",
    "    **-p** AFR \\\n",
    "    **-m** 5 \\\n",
    "    **--mo** tutorial_data/tutorial_outs/tutorial_count_files/AFR/AFR_mutation_count_out.tsv \\\n",
    "    **--ac** 1 \\\n",
    "    **--min** \\\n",
    "    **-b** 5 \\\n",
    "    **-a** 0 \\\n",
    "    **-h** \\\n",
    "    **--nygc** \\\n",
    "    **--fasta-consistent**\n",
    "    "
   ]
  },
  {
   "cell_type": "markdown",
   "id": "ec53509d",
   "metadata": {},
   "source": [
    "#### Running in python script"
   ]
  },
  {
   "cell_type": "code",
   "execution_count": null,
   "id": "82be2b35",
   "metadata": {},
   "outputs": [],
   "source": [
    "from baymer import mutation_counter\n",
    "\n",
    "mutation_count_output_file = \"tutorial_data/tutorial_outs/tutorial_count_files/AFR/AFR_mutation_count_out.tsv\"\n",
    "\n",
    "# run context counter\n",
    "mutation_counter.driver(config_file = config_file, \n",
    "                       feature = \"cpg_islands\",\n",
    "                       pop = \"AFR\",\n",
    "                       mer_length = 5, \n",
    "                       mutation_output_file = mutation_count_output_file,\n",
    "                       allele_count = 1,\n",
    "                       min_bool = True,\n",
    "                       offset = 0,\n",
    "                       buffer_bp = 5,\n",
    "                       unfolded = False,\n",
    "                       high_confidence = True,\n",
    "                       nygc_bool = True,\n",
    "                       fasta_consistent = True)"
   ]
  },
  {
   "cell_type": "markdown",
   "id": "dc717e0c",
   "metadata": {},
   "source": [
    "### Combine mutations and contexts into Baymer input json\n",
    "\n",
    "#### Inputs\n",
    "\n",
    "Note flags for standalone script and named arguments for imported modules indicated as follows at the beginning **(-a/named argument)**\n",
    "\n",
    "* **(-c/config_file)** config file\n",
    "    * The format of this file can be found [here](https://github.com/bvoightlab/Baymer/blob/main/tutorial_data/context_and_mutation_counter_config.yaml)\n",
    "    * Note that this is the same config file as used in the context counting  and mutation counting scripts\n",
    "* **(--mc/mutation_count_file)** output tsv of the mutation counting script\n",
    "* **(--cc/context_count_file)** output tsv of the context counting script\n",
    "* **(-p/pop)** the population of interest (must be designated in the config file)\n",
    "* **(-o/output_dir)** the desired output directory\n",
    "* **(-f/feature)** feature of interest (must be designated in the config file)\n",
    "* **(-d/dataset)** the dataset of the data used. Must be one of \"ODD\", \"EVEN\" or \"ALL\", which correspond to which base pairs are being used\n",
    "* **(--max-af/max_af)** The maximum allele frequency of variants that are to be included. Defaults to 0.85\n",
    "* **(--quality/quality)** Filter to use on the quality score -- i.e only variants with quality > quality score are included. Optional.\n",
    "\n",
    "#### Running standalone script\n",
    "\n",
    "python baymer/generate_count_json.py \\\n",
    "    **-c** tutorial_data/context_and_mutation_counter_config.yaml \\\n",
    "    **-f** cpg_islands \\\n",
    "    **-p** AFR \\\n",
    "    **--mc** tutorial_data/tutorial_outs/tutorial_count_files/AFR/AFR_mutation_count_out.tsv \\\n",
    "    **--cc** tutorial_data/tutorial_outs/tutorial_count_files/context_count_out.tsv \\\n",
    "    **-d** ALL \\\n",
    "    **-o** tutorial_data/tutorial_outs/tutorial_jsons/AFR/\n",
    "    "
   ]
  },
  {
   "cell_type": "markdown",
   "id": "96ecfca4",
   "metadata": {},
   "source": [
    "#### Running in python script"
   ]
  },
  {
   "cell_type": "code",
   "execution_count": null,
   "id": "34258b93",
   "metadata": {},
   "outputs": [],
   "source": [
    "from baymer import generate_count_json\n",
    "\n",
    "output_dir = \"tutorial_data/tutorial_outs/tutorial_jsons/AFR/\"\n",
    "\n",
    "\n",
    "# run context counter\n",
    "generate_count_json.driver(config_file = config_file, \n",
    "                           mutation_count_file = mutation_count_output_file,\n",
    "                           context_count_file = context_count_output_file,\n",
    "                           pop = \"AFR\",\n",
    "                           output_dir = output_dir,\n",
    "                           feature = \"cpg_islands\",\n",
    "                           dataset = \"ALL\",\n",
    "                           max_af = 0.85,\n",
    "                           quality = False)"
   ]
  },
  {
   "cell_type": "code",
   "execution_count": null,
   "id": "97f84f8b",
   "metadata": {},
   "outputs": [],
   "source": []
  }
 ],
 "metadata": {
  "kernelspec": {
   "display_name": "Python 3 (ipykernel)",
   "language": "python",
   "name": "python3"
  },
  "language_info": {
   "codemirror_mode": {
    "name": "ipython",
    "version": 3
   },
   "file_extension": ".py",
   "mimetype": "text/x-python",
   "name": "python",
   "nbconvert_exporter": "python",
   "pygments_lexer": "ipython3",
   "version": "3.9.12"
  }
 },
 "nbformat": 4,
 "nbformat_minor": 5
}
