{
 "cells": [
  {
   "cell_type": "markdown",
   "id": "98f2e8b9",
   "metadata": {},
   "source": [
    "# Baymer Tutorial\n",
    "\n",
    "Baymer can be run either using the baymer package by running each script directly. This markdown will demonstrate primarily how to run baymer by importing different scripts, however, the commands to run each script individually will also be shown.\n",
    "\n",
    "The first part of the tutorial will demonstrate the standard baymer pipeline and subsequently a few downstream applications will be described."
   ]
  },
  {
   "cell_type": "markdown",
   "id": "36622c1e",
   "metadata": {},
   "source": [
    "## Standard Baymer Pipeline\n",
    "\n",
    "Baymer expects jsons of the following format as as input files:\n",
    "\n",
    "{Context: [A polymorphisms, C polymorphisms, G polymorphisms, T polymorphisms, total contexts, context reference index, list reference index], ...}\n",
    "\n",
    "where the \"context reference index\" is the 0-indexed position of the reference nucleotide in the context and \"list reference index\" is the position in the list of the reference nucleotide. Therefore, for the 3-mer context \"AAA\", the context reference index would be 1 and the list reference index would be 0.\n",
    "\n",
    "Note that the input json should only contain a single context reference index and sequence context length. In other words, all contexts should be of uniform length (e.g all 3-mers) and should have the same nucleotide in scope (e.g for 3-mers the central nucleotide is the polymorphic nucleotide for all context counts enumerated).\n",
    "\n",
    "Generating these files necessitates counting both the contexts and the polymorphism counts. We have provided scripts to count these quantities and format the proper json if desired."
   ]
  },
  {
   "cell_type": "markdown",
   "id": "618e8cf8",
   "metadata": {},
   "source": [
    "### Counting Contexts\n",
    "\n",
    "#### Inputs\n",
    "\n",
    "Note flags for standalone script and named arguments for imported modules indicated as follows at the beginning **(-a/named argument)**\n",
    "\n",
    "* **(-f/fasta_config_file)** FASTA feature config file\n",
    "    * The format of this file can be found [here](https://github.com/bvoightlab/Baymer/blob/main/tutorial_data/context_and_mutation_counter_config.yaml)\n",
    "    * The FASTA files designated must be trimmed to only include the feature region of interest. We recommend using [BEDtools](https://bedtools.readthedocs.io/en/latest/content/tools/getfasta.html) to accomplish this. We also recommend adding a buffer to the trimming BED file (can be accomplished using [BEDtools slop](https://bedtools.readthedocs.io/en/latest/content/tools/slop.html)) to extract the FASTAs to account for the overhang of the sequence context allowing the first position in the feature to be included. Otherwise this locus could only be considered as a member of the flanking nucleotides in the sequence contexts ultimately counted. \n",
    "* **(--feature/feature)** feature of interest (must be designated in the config file)\n",
    "* **(-m/mer_length)** the size of the sequence context desired to be counted\n",
    "* **(--co/context_output_file)** the desired output file location and name\n",
    "* **(-b/buffer_bp)** the buffer shift of the fasta (this parameter defaults to the symmetric flank size of the mer size given)\n",
    "* **(-a/offset)** the offset of the mer from perfect symmetry\n",
    "    * this allows for counting mers with different nucleotides in scope than the default center nucleotide\n",
    "    * offsets are designated with the following examples of length 3 and 4 mers:\n",
    "        - 3-mers: NNN -> -1 0 1\n",
    "        - 4-mers: NNNN -> -2 -1 1 2\n",
    "    * by default the script assumes symmetric mers i.e offset = 0 for odd mers and -1 for even mers\n",
    "* **(-u/unfolded)** whether you want folded or unfolded sequence contexts i.e T central nucleotides are folded to A contexts and G nucleotides to C\n",
    "* **(-h/high_confidence)** whether you only want to use high-confidence bases from the FASTAs (this assumes they are designated as such with capital letters)\n",
    "\n",
    "#### Running standalone script\n",
    "\n",
    "python baymer/context_counter.py \\\n",
    "    -f tutorial_data/context_and_mutation_counter_config.yaml \\\n",
    "    --feature nc_accessibility_mask \\\n",
    "    -m 5 \\\n",
    "    --co ~/tutorial_data/test_count_out.tsv \\\n",
    "    -b 5 \\\n",
    "    -a 0 \\\n",
    "    -h"
   ]
  },
  {
   "cell_type": "code",
   "execution_count": null,
   "id": "df24798e",
   "metadata": {},
   "outputs": [],
   "source": []
  }
 ],
 "metadata": {
  "kernelspec": {
   "display_name": "Python 3 (ipykernel)",
   "language": "python",
   "name": "python3"
  },
  "language_info": {
   "codemirror_mode": {
    "name": "ipython",
    "version": 3
   },
   "file_extension": ".py",
   "mimetype": "text/x-python",
   "name": "python",
   "nbconvert_exporter": "python",
   "pygments_lexer": "ipython3",
   "version": "3.9.12"
  }
 },
 "nbformat": 4,
 "nbformat_minor": 5
}
