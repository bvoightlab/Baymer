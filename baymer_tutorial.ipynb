{
 "cells": [
  {
   "cell_type": "markdown",
   "id": "58beeaa1",
   "metadata": {},
   "source": [
    "# Baymer Tutorial\n",
    "\n",
    "Baymer can be run either using the baymer package by running each script directly. This markdown will demonstrate primarily how to run baymer by importing different scripts, however, the commands to run each script individually will also be shown.\n",
    "\n",
    "The first part of the tutorial will demonstrate the standard baymer pipeline and subsequently a few downstream applications will be described."
   ]
  },
  {
   "cell_type": "markdown",
   "id": "0908df99",
   "metadata": {},
   "source": [
    "## Standard Baymer Pipeline\n",
    "\n",
    "Baymer expects jsons of the following format as as input files:\n",
    "\n",
    "{Context: [A polymorphisms, C polymorphisms, G polymorphisms, T polymorphisms, total contexts, context reference index, list reference index], ...}\n",
    "\n",
    "where the \"context reference index\" is the 0-indexed position of the reference nucleotide in the context and \"list reference index\" is the position in the list of the reference nucleotide. Therefore, for the 3-mer context \"AAA\", the context reference index would be 1 and the list reference index would be 0.\n",
    "\n",
    "Note that the input json should only contain a single context reference index and sequence context length. In other words, all contexts should be of uniform length (e.g all 3-mers) and should have the same nucleotide in scope (e.g for 3-mers the central nucleotide is the polymorphic nucleotide for all context counts enumerated).\n",
    "\n",
    "Generating these files necessitates counting both the contexts and the polymorphism counts. We have provided scripts to count these quantities and format the proper json if desired.\n",
    "\n",
    "Note that for all of the following tutorial we will be using 5-mer sequence context windows for speed purposes, but the mer length can be designated as desired. The only caveat being that this will necessitate adjusting the buffer on the BED file to accomodate the given sequence context length (described in further detail below)."
   ]
  },
  {
   "cell_type": "markdown",
   "id": "ede0dae2",
   "metadata": {},
   "source": [
    "### Counting Contexts\n",
    "\n",
    "#### Inputs\n",
    "\n",
    "Note flags for standalone script and named arguments for imported modules indicated as follows at the beginning **(-a/named argument)**\n",
    "\n",
    "* **(-c/config_file)** config file\n",
    "    * The format of this file can be found [here](https://github.com/bvoightlab/Baymer/blob/main/tutorial_data/context_and_mutation_counter_config.yaml)\n",
    "    * The FASTA files designated must be trimmed to only include the feature region of interest. We recommend using [BEDtools](https://bedtools.readthedocs.io/en/latest/content/tools/getfasta.html) to accomplish this. We also recommend adding a buffer to the trimming BED file (can be accomplished using [BEDtools slop](https://bedtools.readthedocs.io/en/latest/content/tools/slop.html)) to extract the FASTAs to account for the overhang of the sequence context allowing the first position in the feature to be included. Otherwise this locus could only be considered as a member of the flanking nucleotides in the sequence contexts ultimately counted. \n",
    "* **(--feature/feature)** feature of interest (must be designated in the config file)\n",
    "* **(-m/mer_length)** the size of the sequence context desired to be counted\n",
    "* **(--co/context_output_file)** the desired output file location and name\n",
    "* **(-b/buffer_bp)** the buffer shift of the fasta (this parameter defaults to the symmetric flank size of the mer size given)\n",
    "* **(-a/offset)** the offset of the mer from perfect symmetry\n",
    "    * this allows for counting mers with different nucleotides in scope than the default center nucleotide\n",
    "    * offsets are designated with the following examples of length 3 and 4 mers:\n",
    "        - 3-mers: NNN -> -1 0 1\n",
    "        - 4-mers: NNNN -> -2 -1 1 2\n",
    "    * by default the script assumes symmetric mers i.e offset = 0 for odd mers and -1 for even mers\n",
    "* **(-u/unfolded)** whether you want folded or unfolded sequence contexts i.e T central nucleotides are folded to A contexts and G nucleotides to C\n",
    "* **(-h/high_confidence)** whether you only want to use high-confidence bases from the FASTAs (this assumes they are designated as such with capital letters)\n",
    "\n",
    "#### Running standalone script\n",
    "\n",
    "python baymer/context_counter.py \\\n",
    "    **-c** tutorial_data/context_and_mutation_counter_config.yaml \\\n",
    "    **--feature** cpg_islands \\\n",
    "    **-m** 5 \\\n",
    "    **--co** tutorial_data/context_count_out.tsv \\\n",
    "    **-b** 5 \\\n",
    "    **-a** 0 \\\n",
    "    **-h**\n"
   ]
  },
  {
   "cell_type": "markdown",
   "id": "d1474847",
   "metadata": {},
   "source": [
    "#### Running in python script"
   ]
  },
  {
   "cell_type": "code",
   "execution_count": 15,
   "id": "7cf5fec9",
   "metadata": {},
   "outputs": [
    {
     "ename": "TypeError",
     "evalue": "driver() got an unexpected keyword argument 'config_file'",
     "output_type": "error",
     "traceback": [
      "\u001b[0;31m---------------------------------------------------------------------------\u001b[0m",
      "\u001b[0;31mTypeError\u001b[0m                                 Traceback (most recent call last)",
      "Input \u001b[0;32mIn [15]\u001b[0m, in \u001b[0;36m<cell line: 7>\u001b[0;34m()\u001b[0m\n\u001b[1;32m      4\u001b[0m context_count_output_file \u001b[38;5;241m=\u001b[39m \u001b[38;5;124m\"\u001b[39m\u001b[38;5;124mtutorial_data/context_count_out.tsv\u001b[39m\u001b[38;5;124m\"\u001b[39m\n\u001b[1;32m      6\u001b[0m \u001b[38;5;66;03m# run context counter\u001b[39;00m\n\u001b[0;32m----> 7\u001b[0m \u001b[43mcontext_counter\u001b[49m\u001b[38;5;241;43m.\u001b[39;49m\u001b[43mdriver\u001b[49m\u001b[43m(\u001b[49m\u001b[43mconfig_file\u001b[49m\u001b[43m \u001b[49m\u001b[38;5;241;43m=\u001b[39;49m\u001b[43m \u001b[49m\u001b[43mconfig_file\u001b[49m\u001b[43m,\u001b[49m\u001b[43m \u001b[49m\n\u001b[1;32m      8\u001b[0m \u001b[43m                       \u001b[49m\u001b[43mfeature\u001b[49m\u001b[43m \u001b[49m\u001b[38;5;241;43m=\u001b[39;49m\u001b[43m \u001b[49m\u001b[38;5;124;43m\"\u001b[39;49m\u001b[38;5;124;43mcpg_islands\u001b[39;49m\u001b[38;5;124;43m\"\u001b[39;49m\u001b[43m,\u001b[49m\u001b[43m \u001b[49m\n\u001b[1;32m      9\u001b[0m \u001b[43m                       \u001b[49m\u001b[43mmer_length\u001b[49m\u001b[43m \u001b[49m\u001b[38;5;241;43m=\u001b[39;49m\u001b[43m \u001b[49m\u001b[38;5;241;43m5\u001b[39;49m\u001b[43m,\u001b[49m\u001b[43m \u001b[49m\n\u001b[1;32m     10\u001b[0m \u001b[43m                       \u001b[49m\u001b[43mcontext_output_file\u001b[49m\u001b[43m \u001b[49m\u001b[38;5;241;43m=\u001b[39;49m\u001b[43m \u001b[49m\u001b[43mcontext_count_output_file\u001b[49m\u001b[43m,\u001b[49m\n\u001b[1;32m     11\u001b[0m \u001b[43m                       \u001b[49m\u001b[43moffset\u001b[49m\u001b[43m \u001b[49m\u001b[38;5;241;43m=\u001b[39;49m\u001b[43m \u001b[49m\u001b[38;5;241;43m0\u001b[39;49m\u001b[43m,\u001b[49m\n\u001b[1;32m     12\u001b[0m \u001b[43m                       \u001b[49m\u001b[43mbuffer_bp\u001b[49m\u001b[43m \u001b[49m\u001b[38;5;241;43m=\u001b[39;49m\u001b[43m \u001b[49m\u001b[38;5;241;43m5\u001b[39;49m\u001b[43m,\u001b[49m\n\u001b[1;32m     13\u001b[0m \u001b[43m                       \u001b[49m\u001b[43munfolded\u001b[49m\u001b[43m \u001b[49m\u001b[38;5;241;43m=\u001b[39;49m\u001b[43m \u001b[49m\u001b[38;5;28;43;01mFalse\u001b[39;49;00m\u001b[43m,\u001b[49m\n\u001b[1;32m     14\u001b[0m \u001b[43m                       \u001b[49m\u001b[43mhigh_confidence\u001b[49m\u001b[43m \u001b[49m\u001b[38;5;241;43m=\u001b[39;49m\u001b[43m \u001b[49m\u001b[38;5;28;43;01mTrue\u001b[39;49;00m\u001b[43m)\u001b[49m\n",
      "\u001b[0;31mTypeError\u001b[0m: driver() got an unexpected keyword argument 'config_file'"
     ]
    }
   ],
   "source": [
    "from baymer import context_counter\n",
    "\n",
    "config_file = \"tutorial_data/context_and_mutation_counter_config.yaml\"\n",
    "context_count_output_file = \"tutorial_data/context_count_out.tsv\"\n",
    "\n",
    "# run context counter\n",
    "context_counter.driver(config_file = config_file, \n",
    "                       feature = \"cpg_islands\", \n",
    "                       mer_length = 5, \n",
    "                       context_output_file = context_count_output_file,\n",
    "                       offset = 0,\n",
    "                       buffer_bp = 5,\n",
    "                       unfolded = False,\n",
    "                       high_confidence = True)"
   ]
  },
  {
   "cell_type": "markdown",
   "id": "28b8b505",
   "metadata": {},
   "source": [
    "### Counting Mutations\n",
    "\n",
    "#### Inputs\n",
    "\n",
    "Note flags for standalone script and named arguments for imported modules indicated as follows at the beginning **(-a/named argument)**\n",
    "\n",
    "* **(-c/config_file)** FASTA feature config file\n",
    "    * The format of this file can be found [here](https://github.com/bvoightlab/Baymer/blob/main/tutorial_data/context_and_mutation_counter_config.yaml)\n",
    "    * Note that this is the same config file as used in the context counting script\n",
    "* **(--feature/feature)** feature of interest (must be designated in the config file)\n",
    "* **(-p/pop)** the population of interest (must be designated in the config file)\n",
    "* **(-m/mer_length)** the size of the sequence context desired to be counted\n",
    "* **(--mo/mutation_output_file)** the desired output file location and name\n",
    "* **(--ac/allele_count)** specifies the allele count you would like to count\n",
    "* **(--min/min_bool)** specifies that you would like to count *at least* the number of alleles specified (i.e with this option the script will count the # of alleles specified or greater)\n",
    "* **(-b/buffer_bp)** the buffer shift of the fasta (this parameter defaults to the symmetric flank size of the mer size given)\n",
    "* **(-a/offset)** the offset of the mer from perfect symmetry\n",
    "    * this allows for counting mers with different nucleotides in scope than the default center nucleotide\n",
    "    * offsets are designated with the following examples of length 3 and 4 mers:\n",
    "        - 3-mers: NNN -> -1 0 1\n",
    "        - 4-mers: NNNN -> -2 -1 1 2\n",
    "    * by default the script assumes symmetric mers i.e offset = 0 for odd mers and -1 for even mers\n",
    "* **(-u/unfolded)** whether you want folded or unfolded sequence contexts i.e T central nucleotides are folded to A contexts and G nucleotides to C\n",
    "* **(-h/high_confidence)** whether you only want to use high-confidence bases from the FASTAs (this assumes they are designated as such with capital letters)\n",
    "* **(--nygc/nygc_bool)** Boolean to specify whether the vcf of interest is using 1KG or gnomad population formatting\n",
    "    * this essentially controls for the syntax of population names and qc metrics. If a different standard than either of these two is used, this may need to be adjusted\n",
    "    * gnomad populations are labeled \"POP_AC\" etc etc\n",
    "    * 1KG populations \n",
    "* **(--fasta-consistent/fasta_consistent)** Boolean to specify that you would like enforce vcf consistency (e.g fasta is ancestral but vcf is not)\n",
    "\n",
    "#### Running standalone script\n",
    "\n",
    "python baymer/mutation_counter.py \\\n",
    "    **-c** tutorial_data/context_and_mutation_counter_config.yaml \\\n",
    "    **--feature** cpg_islands \\\n",
    "    **-p** AFR \\\n",
    "    **-m** 5 \\\n",
    "    **--mo** tutorial_data/AFR_mutation_count_out.tsv \\\n",
    "    **--ac** 1 \\\n",
    "    **--min** \\\n",
    "    **-b** 5 \\\n",
    "    **-a** 0 \\\n",
    "    **-h** \\\n",
    "    **--nygc** \\\n",
    "    **--fasta-consistent**\n",
    "    "
   ]
  },
  {
   "cell_type": "markdown",
   "id": "ec53509d",
   "metadata": {},
   "source": [
    "#### Running in python script"
   ]
  },
  {
   "cell_type": "code",
   "execution_count": 9,
   "id": "82be2b35",
   "metadata": {},
   "outputs": [
    {
     "name": "stdout",
     "output_type": "stream",
     "text": [
      "chr1\n",
      "VCF REF matched ancestral:  10815\n",
      "VCF ALT matched ancestral:  0\n",
      "Could not find ancestral match:  0\n",
      "Total size of df before qc:  10815\n",
      "Output file successfully saved\n",
      "tutorial_data/AFR_mutation_count_out.tsv\n"
     ]
    }
   ],
   "source": [
    "from baymer import mutation_counter\n",
    "\n",
    "mutation_count_output_file = \"tutorial_data/AFR_mutation_count_out.tsv\"\n",
    "\n",
    "# run context counter\n",
    "mutation_counter.driver(config_file = config_file, \n",
    "                       feature = \"cpg_islands\",\n",
    "                       pop = \"AFR\",\n",
    "                       mer_length = 5, \n",
    "                       mutation_output_file = mutation_count_output_file,\n",
    "                       allele_count = 1,\n",
    "                       min_bool = True,\n",
    "                       offset = 0,\n",
    "                       buffer_bp = 5,\n",
    "                       unfolded = False,\n",
    "                       high_confidence = True,\n",
    "                       nygc_bool = True,\n",
    "                       fasta_consistent = True)"
   ]
  },
  {
   "cell_type": "code",
   "execution_count": null,
   "id": "36099429",
   "metadata": {},
   "outputs": [],
   "source": []
  }
 ],
 "metadata": {
  "kernelspec": {
   "display_name": "Python 3 (ipykernel)",
   "language": "python",
   "name": "python3"
  },
  "language_info": {
   "codemirror_mode": {
    "name": "ipython",
    "version": 3
   },
   "file_extension": ".py",
   "mimetype": "text/x-python",
   "name": "python",
   "nbconvert_exporter": "python",
   "pygments_lexer": "ipython3",
   "version": "3.9.12"
  }
 },
 "nbformat": 4,
 "nbformat_minor": 5
}
